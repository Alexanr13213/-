{
 "cells": [
  {
   "cell_type": "code",
   "execution_count": 29,
   "id": "fossil-standing",
   "metadata": {},
   "outputs": [],
   "source": [
    "import numpy as np\n",
    "import matplotlib.pyplot as plt\n",
    "import scipy\n",
    "from scipy import special\n",
    "from scipy import linalg\n",
    "from scipy import interpolate\n",
    "%matplotlib inline"
   ]
  },
  {
   "cell_type": "code",
   "execution_count": 49,
   "id": "least-treatment",
   "metadata": {},
   "outputs": [
    {
     "name": "stdout",
     "output_type": "stream",
     "text": [
      "0.0 0.0\n",
      "0.1 0.1124629160182849\n",
      "0.2 0.22270258921047845\n",
      "0.3 0.3286267594591274\n",
      "0.4 0.42839235504666845\n",
      "0.5 0.5204998778130465\n",
      "0.6 0.6038560908479258\n",
      "0.7 0.6778011938374183\n",
      "0.8 0.7421009647076605\n",
      "0.9 0.7969082124228322\n",
      "1.0 0.8427007929497148\n"
     ]
    }
   ],
   "source": [
    "x=[0.0,0.1,0.2,0.3,0.4,0.5,0.6,0.7,0.8,0.9,1.0]\n",
    "y=scipy.special.erf(x)\n",
    "for i in range(0,11):\n",
    "  print(x[i],y[i])"
   ]
  },
  {
   "cell_type": "code",
   "execution_count": 48,
   "id": "authorized-actress",
   "metadata": {},
   "outputs": [
    {
     "data": {
      "image/png": "[encoded data removed]",
      "text/plain": [
       "<Figure size 432x288 with 1 Axes>"
      ]
     },
     "metadata": {
      "needs_background": "light"
     },
     "output_type": "display_data"
    }
   ],
   "source": [
    "plt.title('Начальные точки')\n",
    "plt.plot(x,y,'bo')\n",
    "pass"
   ]
  },
  {
   "cell_type": "code",
   "execution_count": 50,
   "id": "iraqi-boards",
   "metadata": {},
   "outputs": [
    {
     "data": {
      "text/plain": [
       "array([-1.46537037e-03,  5.41662270e-03,  2.13905314e-03, -2.99669744e-02,\n",
       "        2.22912462e-03,  1.11876424e-01,  2.56838187e-04, -3.76167525e-01,\n",
       "        3.55779444e-06,  1.12837904e+00,  0.00000000e+00])"
      ]
     },
     "execution_count": 50,
     "metadata": {},
     "output_type": "execute_result"
    }
   ],
   "source": [
    "W = np.vander(x)\n",
    "res=scipy.linalg.solve(W,y)\n",
    "res"
   ]
  },
  {
   "cell_type": "code",
   "execution_count": 51,
   "id": "reliable-officer",
   "metadata": {},
   "outputs": [
    {
     "data": {
      "text/plain": [
       "array([0.        , 0.05263158, 0.10526316, 0.15789474, 0.21052632,\n",
       "       0.26315789, 0.31578947, 0.36842105, 0.42105263, 0.47368421,\n",
       "       0.52631579, 0.57894737, 0.63157895, 0.68421053, 0.73684211,\n",
       "       0.78947368, 0.84210526, 0.89473684, 0.94736842, 1.        ])"
      ]
     },
     "execution_count": 51,
     "metadata": {},
     "output_type": "execute_result"
    }
   ],
   "source": [
    "xx = np.linspace(0.0, 1.0,20)\n",
    "xx"
   ]
  },
  {
   "cell_type": "code",
   "execution_count": 52,
   "id": "viral-patient",
   "metadata": {},
   "outputs": [
    {
     "data": {
      "text/plain": [
       "array([0.        , 0.05933359, 0.11833951, 0.17669554, 0.23409012,\n",
       "       0.29022736, 0.3448316 , 0.39765138, 0.44846286, 0.49707249,\n",
       "       0.54331887, 0.58707392, 0.62824324, 0.66676572, 0.70261247,\n",
       "       0.73578515, 0.76631371, 0.79425374, 0.81968353, 0.84270079])"
      ]
     },
     "execution_count": 52,
     "metadata": {},
     "output_type": "execute_result"
    }
   ],
   "source": [
    "yy = scipy.special.erf(xx)\n",
    "yy"
   ]
  },
  {
   "cell_type": "code",
   "execution_count": 53,
   "id": "lasting-indonesia",
   "metadata": {},
   "outputs": [
    {
     "data": {
      "text/plain": [
       "115575244.55218327"
      ]
     },
     "execution_count": 53,
     "metadata": {},
     "output_type": "execute_result"
    }
   ],
   "source": [
    "def cond(A, p=2):\n",
    "    return linalg.norm(A, p)*linalg.norm(linalg.inv(A), p)\n",
    "\n",
    "cond(W)"
   ]
  },
  {
   "cell_type": "code",
   "execution_count": 62,
   "id": "received-notebook",
   "metadata": {},
   "outputs": [
    {
     "ename": "ValueError",
     "evalue": "matmul: Input operand 1 has a mismatch in its core dimension 0, with gufunc signature (n?,k),(k,m?)->(n?,m?) (size 11 is different from 99)",
     "output_type": "error",
     "traceback": [
      "\u001b[0;31m---------------------------------------------------------------------------\u001b[0m",
      "\u001b[0;31mValueError\u001b[0m                                Traceback (most recent call last)",
      "\u001b[0;32m<ipython-input-62-98030f31eed3>\u001b[0m in \u001b[0;36m<module>\u001b[0;34m\u001b[0m\n\u001b[0;32m----> 1\u001b[0;31m \u001b[0mprint\u001b[0m\u001b[0;34m(\u001b[0m\u001b[0;34m\"Абсолютная ошибка:\"\u001b[0m\u001b[0;34m,\u001b[0m \u001b[0mlinalg\u001b[0m\u001b[0;34m.\u001b[0m\u001b[0mnorm\u001b[0m\u001b[0;34m(\u001b[0m\u001b[0mW\u001b[0m\u001b[0;34m@\u001b[0m\u001b[0mres\u001b[0m\u001b[0;34m-\u001b[0m\u001b[0my\u001b[0m\u001b[0;34m)\u001b[0m\u001b[0;34m)\u001b[0m\u001b[0;34m\u001b[0m\u001b[0;34m\u001b[0m\u001b[0m\n\u001b[0m\u001b[1;32m      2\u001b[0m \u001b[0mprint\u001b[0m\u001b[0;34m(\u001b[0m\u001b[0;34m\"Относительная ошибка:\"\u001b[0m\u001b[0;34m,\u001b[0m \u001b[0mlinalg\u001b[0m\u001b[0;34m.\u001b[0m\u001b[0mnorm\u001b[0m\u001b[0;34m(\u001b[0m\u001b[0mW\u001b[0m\u001b[0;34m@\u001b[0m\u001b[0mres\u001b[0m\u001b[0;34m-\u001b[0m\u001b[0my\u001b[0m\u001b[0;34m)\u001b[0m\u001b[0;34m/\u001b[0m\u001b[0mlinalg\u001b[0m\u001b[0;34m.\u001b[0m\u001b[0mnorm\u001b[0m\u001b[0;34m(\u001b[0m\u001b[0my\u001b[0m\u001b[0;34m)\u001b[0m\u001b[0;34m)\u001b[0m\u001b[0;34m\u001b[0m\u001b[0;34m\u001b[0m\u001b[0m\n",
      "\u001b[0;31mValueError\u001b[0m: matmul: Input operand 1 has a mismatch in its core dimension 0, with gufunc signature (n?,k),(k,m?)->(n?,m?) (size 11 is different from 99)"
     ]
    }
   ],
   "source": [
    "print(\"Абсолютная ошибка = \", linalg.norm(W@res-y))\n",
    "print(\"Относительная ошибк = \", linalg.norm(W@res-y)/linalg.norm(y))"
   ]
  },
  {
   "cell_type": "code",
   "execution_count": 55,
   "id": "binary-gibraltar",
   "metadata": {},
   "outputs": [
    {
     "data": {
      "text/plain": [
       "array([-1.46537043e-03,  5.41662302e-03,  2.13905245e-03, -2.99669736e-02,\n",
       "        2.22912404e-03,  1.11876424e-01,  2.56838112e-04, -3.76167525e-01,\n",
       "        3.55779326e-06,  1.12837904e+00, -3.70311476e-16])"
      ]
     },
     "execution_count": 55,
     "metadata": {},
     "output_type": "execute_result"
    }
   ],
   "source": [
    "f = np.polyfit(x,y,10)\n",
    "f"
   ]
  },
  {
   "cell_type": "code",
   "execution_count": 56,
   "id": "amended-costs",
   "metadata": {},
   "outputs": [
    {
     "data": {
      "image/png": "[encoded data removed]",
      "text/plain": [
       "<Figure size 432x288 with 1 Axes>"
      ]
     },
     "metadata": {
      "needs_background": "light"
     },
     "output_type": "display_data"
    }
   ],
   "source": [
    "xx = np.linspace(0.0, 1.0,100)\n",
    "plt.title('График интерполяционного многочлена')\n",
    "plt.plot(xx, np.polyval(f, xx),color = 'tab:blue')\n",
    "plt.plot(x, y, 'or', color = 'green')\n",
    "pass"
   ]
  },
  {
   "cell_type": "code",
   "execution_count": 57,
   "id": "beautiful-russell",
   "metadata": {},
   "outputs": [
    {
     "data": {
      "image/png": "[encoded data removed]",
      "text/plain": [
       "<Figure size 432x288 with 1 Axes>"
      ]
     },
     "metadata": {
      "needs_background": "light"
     },
     "output_type": "display_data"
    }
   ],
   "source": [
    "f = scipy.interpolate.pchip(x,y)\n",
    "xx = np.linspace(0.0, 1.0,20)\n",
    "yy = f(xx)\n",
    "plt.title('Кубический эрмитов интерполянт')\n",
    "plt.plot(xx, yy, color = 'tab:blue')\n",
    "plt.plot(x, y, 'or', color = 'green')\n",
    "pass"
   ]
  },
  {
   "cell_type": "code",
   "execution_count": 40,
   "id": "southwest-station",
   "metadata": {},
   "outputs": [
    {
     "data": {
      "text/plain": [
       "array([0.        , 0.0594696 , 0.11832277, 0.17670944, 0.23406215,\n",
       "       0.29024943, 0.34479728, 0.3976799 , 0.44842653, 0.49710501,\n",
       "       0.54328421, 0.58710726, 0.62821322, 0.6667962 , 0.70258918,\n",
       "       0.73580888, 0.76629823, 0.79426708, 0.81967015, 0.84270079])"
      ]
     },
     "execution_count": 40,
     "metadata": {},
     "output_type": "execute_result"
    }
   ],
   "source": [
    "yy"
   ]
  },
  {
   "cell_type": "code",
   "execution_count": 58,
   "id": "outside-anger",
   "metadata": {},
   "outputs": [
    {
     "data": {
      "image/png": "[encoded data removed]",
      "text/plain": [
       "<Figure size 432x288 with 1 Axes>"
      ]
     },
     "metadata": {
      "needs_background": "light"
     },
     "output_type": "display_data"
    }
   ],
   "source": [
    "f = scipy.interpolate.CubicSpline(x,y)\n",
    "xx = np.linspace(0.0, 1.0,20)\n",
    "yy = f(xx)\n",
    "plt.title('Кубический сплайн')\n",
    "plt.plot(xx, yy, color = 'tab:blue')\n",
    "plt.plot(x, y, 'or', color = 'green')\n",
    "pass"
   ]
  },
  {
   "cell_type": "code",
   "execution_count": 59,
   "id": "suffering-filename",
   "metadata": {},
   "outputs": [
    {
     "data": {
      "text/plain": [
       "array([0.        , 0.05933708, 0.11833915, 0.17669417, 0.23409011,\n",
       "       0.2902269 , 0.34483122, 0.39765058, 0.44846235, 0.49707181,\n",
       "       0.54331818, 0.58707342, 0.62824234, 0.66676528, 0.70261207,\n",
       "       0.73578527, 0.76631131, 0.79425312, 0.81968986, 0.84270079])"
      ]
     },
     "execution_count": 59,
     "metadata": {},
     "output_type": "execute_result"
    }
   ],
   "source": [
    "yy"
   ]
  },
  {
   "cell_type": "code",
   "execution_count": 60,
   "id": "dominican-mongolia",
   "metadata": {},
   "outputs": [
    {
     "data": {
      "image/png": "[encoded data removed]",
      "text/plain": [
       "<Figure size 432x288 with 1 Axes>"
      ]
     },
     "metadata": {
      "needs_background": "light"
     },
     "output_type": "display_data"
    }
   ],
   "source": [
    "n_vector = []\n",
    "for i in range(1,100):\n",
    "  n_vector.append(i)\n",
    "cond_array = []\n",
    "for n in n_vector:\n",
    "    _x=[]\n",
    "    for i in range(0,n):\n",
    "      _x+=[(i-1)/10]\n",
    "    W = np.vander(_x)\n",
    "    c = cond(W)\n",
    "    cond_array.append(c)\n",
    "plt.semilogy(n_vector, cond_array, '.')\n",
    "plt.title('Зависимость числа обусловленности от степени интерполяционного многочлена')\n",
    "pass"
   ]
  },
  {
   "cell_type": "code",
   "execution_count": null,
   "id": "whole-budget",
   "metadata": {},
   "outputs": [],
   "source": []
  }
 ],
 "metadata": {
  "kernelspec": {
   "display_name": "Python 3",
   "language": "python",
   "name": "python3"
  },
  "language_info": {
   "codemirror_mode": {
    "name": "ipython",
    "version": 3
   },
   "file_extension": ".py",
   "mimetype": "text/x-python",
   "name": "python",
   "nbconvert_exporter": "python",
   "pygments_lexer": "ipython3",
   "version": "3.7.8"
  }
 },
 "nbformat": 4,
 "nbformat_minor": 5
}
